{
 "cells": [
  {
   "attachments": {},
   "cell_type": "markdown",
   "id": "c0ca097d-0d82-4f3f-9a34-71655e432bf1",
   "metadata": {},
   "source": [
    "# Plan de trabajo UdeA\n",
    "## Installation\n",
    "1. Donload this `notebook` by following [this link](https://raw.githubusercontent.com/restrepo/plan_de_trabajo/main/ptd.ipynb)\n",
    "\n",
    "2. Save with: <kbd>Ctrl</kbd>+<kbd>S</kbd>\n",
    "\n",
    "3. Remove:  `.txt` \n",
    "\n",
    " ![image](./img/Av30W.png)\n",
    "\n",
    "4. Download and install Anaconda from [here](https://www.anaconda.com/download/success), and from the \"Anaconda Navigation\" window, choose \"JupyterLab\":\n",
    "   \n",
    "![image](https://github.com/restrepo/plan_de_trabajo/assets/655883/860c34b0-4052-43a7-82f9-0d577cc3c528)\n",
    "\n",
    "5. Now navigate to the directory where `noebook` is downloaded in \"JupyterLab\"  and open it.\n",
    "\n",
    "  [1]: https://i.stack.imgur.com/Av30W.png\n",
    "\n",
    "## Usage\n",
    "<!--1. Use <kbd>Shift</kbd>+<kbd>Enter</kbd> to execute each cell, sequantially, below -->\n",
    "From the menu: `Kernel` → `Restart Kernel` and `Run` → `Run All Cells`"
   ]
  },
  {
   "cell_type": "code",
   "execution_count": 1,
   "id": "8b6f4282-807a-4ee5-86e4-c2b22d898909",
   "metadata": {},
   "outputs": [],
   "source": [
    "try:\n",
    "    import helium\n",
    "except:\n",
    "    import os\n",
    "    os.system('pip install helium') \n",
    "    os.system('conda install -c conda-forge ipywidgets') #jupyterlab_widgets also installed\n",
    "    print(\"Restart of the notebook is requiered. From the menu: `File → Shut Down` and open again from 'Anaconda Navigator'\" )"
   ]
  },
  {
   "cell_type": "code",
   "execution_count": 2,
   "id": "d46c4861-8ed9-4d41-b03e-278a4efdae09",
   "metadata": {},
   "outputs": [],
   "source": [
    "# Get python file from GitHub if not avalaible\n",
    "from os.path import isfile\n",
    "py_file = 'plan_de_trabajo.py'\n",
    "if not isfile(py_file):\n",
    "    import requests\n",
    "    \n",
    "    fpy = requests.get(f'https://raw.githubusercontent.com/restrepo/plan_de_trabajo/main/{py_file}')\n",
    "    \n",
    "    if fpy.status_code == 200:\n",
    "        f = open(py_file,'w',encoding=\"utf8\")\n",
    "        f.write(fpy.text)\n",
    "        f.close()"
   ]
  },
  {
   "cell_type": "code",
   "execution_count": 1,
   "id": "f127ea6e-583a-42ca-ae26-6b263d018495",
   "metadata": {},
   "outputs": [
    {
     "data": {
      "application/vnd.jupyter.widget-view+json": {
       "model_id": "5f39ccf36fe54df8880b74d07b4a6df6",
       "version_major": 2,
       "version_minor": 0
      },
      "text/plain": [
       "RadioButtons(description='Salvar la base de datos', options=(True, False), value=True)"
      ]
     },
     "metadata": {},
     "output_type": "display_data"
    },
    {
     "data": {
      "application/vnd.jupyter.widget-view+json": {
       "model_id": "8adaa1fe5fe243d38909138735c1ccd5",
       "version_major": 2,
       "version_minor": 0
      },
      "text/plain": [
       "RadioButtons(description='Actualizar la base de datos', options=(True, False), value=True)"
      ]
     },
     "metadata": {},
     "output_type": "display_data"
    },
    {
     "data": {
      "application/vnd.jupyter.widget-view+json": {
       "model_id": "180bb9e5529f4763b2f7164a228a9661",
       "version_major": 2,
       "version_minor": 0
      },
      "text/plain": [
       "RadioButtons(description='Enviar el plan de trabajo al profesor', options=(True, False), value=True)"
      ]
     },
     "metadata": {},
     "output_type": "display_data"
    },
    {
     "data": {
      "application/vnd.jupyter.widget-view+json": {
       "model_id": "b3c67d0d70ba4511b50c798740f0b4b9",
       "version_major": 2,
       "version_minor": 0
      },
      "text/plain": [
       "RadioButtons(description='Autenticarse de nuevo', index=1, options=(True, False), value=False)"
      ]
     },
     "metadata": {},
     "output_type": "display_data"
    },
    {
     "data": {
      "application/vnd.jupyter.widget-view+json": {
       "model_id": "c4f19ba0334843cb91e1f0efeab0a505",
       "version_major": 2,
       "version_minor": 0
      },
      "text/plain": [
       "RadioButtons(description='RESET i: ignorando la base de datos', index=1, options=(True, False), value=False)"
      ]
     },
     "metadata": {},
     "output_type": "display_data"
    },
    {
     "name": "stdout",
     "output_type": "stream",
     "text": [
      "────────────────────────────────────────────────────────────────────────────────\n"
     ]
    },
    {
     "data": {
      "application/vnd.jupyter.widget-view+json": {
       "model_id": "d70a941eeda7470da5bbd9408873e72f",
       "version_major": 2,
       "version_minor": 0
      },
      "text/plain": [
       "Dropdown(description='Profesores', options=('Instituto', 'Todos'), style=DescriptionStyle(description_width='i…"
      ]
     },
     "metadata": {},
     "output_type": "display_data"
    },
    {
     "data": {
      "application/vnd.jupyter.widget-view+json": {
       "model_id": "179c23bb2bd643c984e3aa9cfccbe8bf",
       "version_major": 2,
       "version_minor": 0
      },
      "text/plain": [
       "Dropdown(description='Estado', index=2, options=('Autorizado', 'Aprobado', 'Diligenciado', 'Devuelto para revi…"
      ]
     },
     "metadata": {},
     "output_type": "display_data"
    },
    {
     "data": {
      "application/vnd.jupyter.widget-view+json": {
       "model_id": "62a736e5c26042168f1532b6849962ec",
       "version_major": 2,
       "version_minor": 0
      },
      "text/plain": [
       "Dropdown(description='Semestre', options=('2024-1', '2023-2', '2023-1', '2022-2', '2022-1', '2021-2', '2021-1'…"
      ]
     },
     "metadata": {},
     "output_type": "display_data"
    }
   ],
   "source": [
    "from plan_de_trabajo import *\n",
    "# For not interactive mode, define `defaults` list:\n",
    "#  `defaults` must be defined according to the order of radios and drops keys below, and can be used outside jupyter\n",
    "radios,drops = get_config(defaults=[True, True, True, False, False,'Instituto','Diligenciado','2024-1']) # Usually (defaults = [])\n",
    "file = 'ptd_diligenciado_20241.json'"
   ]
  },
  {
   "cell_type": "code",
   "execution_count": 2,
   "id": "8300cdb2-5a02-4aef-a757-4f20350d58d8",
   "metadata": {
    "scrolled": true
   },
   "outputs": [
    {
     "name": "stdout",
     "output_type": "stream",
     "text": [
      "Using existing local encrypted login file from previos run: ./login.enc\n",
      "wait for 5 secnds                                                               \n",
      "0 records in database\n",
      "Incialización para ptd_diligenciado_20241.json con len: 0 e i_page = 1\n",
      "wait 2 seconds...                                                               \n",
      "5 registros: en 1 páginas; e índice máximo 4\n",
      "recovering loop try 0/10\n",
      "try 1 loop i 0\n",
      "new i → 0                                                                       \n",
      "page: 1; i: 0 \n",
      "Docente: EDUARDO\n",
      "Esperando el pop up de Autorizado                                               \n",
      "Click \"Aceptar\"..                                                               \n",
      "Autorizar\n",
      " Subir entregables de compromisos al formulario: https://forms.gle/EjgHCmXdMR6SbtqT6, durante el mes siguiente a la terminación del semestre\n",
      "new i → 1conds...                                                               \n",
      "page: 1; i: 1 \n",
      "Docente: AUGUSTO\n",
      "Esperando el pop up de Autorizado                                               \n",
      "Click \"Aceptar\"..                                                               \n",
      "Autorizar\n",
      " Actividades de Docencia: Debe tener al menos un curso presencial a su cargo\n",
      "Subir entregables de compromisos al formulario: https://forms.gle/EjgHCmXdMR6SbtqT6, durante el mes siguiente a la terminación del semestre\n",
      "new i → 2conds...                                                               \n",
      "page: 1; i: 2 \n",
      "Docente: ALVARO\n",
      "Esperando el pop up de Autorizado                                               \n",
      "Click \"Aceptar\"..                                                               \n",
      "Autorizar\n",
      " \n",
      "new i → 3conds...                                                               \n",
      "page: 1; i: 3 \n",
      "Docente: ENEA\n",
      "except seconds...                                                               \n",
      "Returning back to list\n",
      "recovering loop try 1/10\n",
      "try 1 loop i 3\n",
      "new i → 3                                                                       \n",
      "page: 1; i: 3 \n",
      "Docente: ENEA\n",
      "except seconds...                                                               \n",
      "Returning back to list\n",
      "recovering loop try 2/10\n",
      "try 1 loop i 3\n",
      "new i → 3                                                                       \n",
      "page: 1; i: 3 \n",
      "Docente: ENEA\n",
      "Esperando el pop up de Autorizado                                               \n",
      "Click \"Aceptar\"..                                                               \n",
      "Autorizar\n",
      " \n",
      "new i → 4conds...                                                               \n",
      "page: 1; i: 4 \n",
      "Docente: ALBERTO\n",
      "Devueltoeconds...                                                               \n",
      " Actividades relacionadas con la docencia: Es oblogatorio incluir horas en \"Atención a estudiantes\"\n",
      "****************************************                                        \n",
      "¡Todos los registros han sido procesados!\n",
      "Un ERROR se generá para escapar del loop\n",
      "****************************************\n",
      "except\n",
      "Return back to records list\n",
      "Returning back to list\n",
      "recovering loop try 3/10\n",
      "try 1 loop i 4\n",
      "new i → 4                                                                       \n",
      "page: 1; i: 4 \n",
      "Docente: ALBERTO\n",
      "Already in database\n",
      "new i → 55                                                                      \n",
      "All records analysed: forcing break ..., bye!\n",
      "except\n",
      "Return back to records list\n",
      "Returning back to list\n",
      "The End\n"
     ]
    }
   ],
   "source": [
    "settings = configuration(radios, drops)\n",
    "\n",
    "# Creates object\n",
    "ptd = PTD(settings)    # Clean object\n",
    "\n",
    "# Open browser\n",
    "if not ptd.NEW_LOGIN:\n",
    "    driver = hell.start_chrome()\n",
    "    \n",
    "login()\n",
    "\n",
    "print('wait for 5 sec')\n",
    "sleep(5)\n",
    "\n",
    "lptd = ptd.initialize_database(file) # set initial i and initial page\n",
    "\n",
    "ptd.búsqueda_avanzada(institutos = ['BIOLOGIA','FISICA','MATEMATICAS','QUIMICA', 'CIENCIAS DEL MAR'],SINGLE = False, cedula = None)\n",
    "\n",
    "hell.wait_until(hell.Text('Fecha inicio semestre').exists,timeout_secs=500)\n",
    "\n",
    "ptd.initialize_loop(lptd) #go to intial page here\n",
    "\n",
    "lptd = ptd.force_loops(lptd, file)"
   ]
  },
  {
   "cell_type": "code",
   "execution_count": null,
   "id": "dfd45ed9-b7af-42a9-8aad-6d125e52eee9",
   "metadata": {},
   "outputs": [],
   "source": [
    "DEBUG = False\n",
    "if DEBUG:\n",
    "    login()\n",
    "    ptd.búsqueda_avanzada(institutos = ['BIOLOGIA','FISICA','MATEMATICA','QUIMICA', 'CIENCIAS DEL MAR'],SINGLE = False, cedula = None)\n",
    "    input('manual search')\n",
    "    ptd = PTD(settings)\n",
    "    ptd.i_page = 1\n",
    "    ptd.loop(lptd,file) # → For test with (2020-2 and ptd.i_page = 3, 2020-1 and ptd.ipage = 1 one Aceptar which does not close)"
   ]
  },
  {
   "cell_type": "code",
   "execution_count": null,
   "id": "1aae9685-b899-4b30-a3aa-e4bcb60bac9e",
   "metadata": {},
   "outputs": [],
   "source": [
    "%load_ext autoreload"
   ]
  },
  {
   "cell_type": "code",
   "execution_count": null,
   "id": "a53238bf-8803-4146-9840-a32e01135b71",
   "metadata": {},
   "outputs": [],
   "source": [
    "%autoreload 2"
   ]
  },
  {
   "cell_type": "markdown",
   "id": "5b22e6a2-bb8d-4683-a5f2-b395099f8029",
   "metadata": {},
   "source": [
    "## Actividades"
   ]
  },
  {
   "cell_type": "code",
   "execution_count": null,
   "id": "6c2d4105-3838-42a0-b1d9-f391e39f80fb",
   "metadata": {},
   "outputs": [],
   "source": [
    "from IPython.display import HTML\n",
    "\n",
    "ptd.get_actividades(L=lptd)\n",
    "\n",
    "ptd.actividades.keys()\n",
    "\n",
    "remove_activities = ['Atención a estudiantes', 'Preparación de clases, prácticas, exámenes y calificaciones'] \n",
    "for a in remove_activities:\n",
    "    ptd.actividades['actividades_relacionadas_con_la_docencia'] = ptd.actividades['actividades_relacionadas_con_la_docencia'][\n",
    "       ptd.actividades['actividades_relacionadas_con_la_docencia']['Actividad'] \n",
    "        != a].reset_index(drop=True)\n",
    "\n",
    "remove_activities = ['Actividades de apoyo a la gestión académica-administrativa',\n",
    "                     'Reuniones de departamento, sección, administración o unidad académica']\n",
    "for a in remove_activities:\n",
    "    ptd.actividades['otras_Actividades'] = ptd.actividades['otras_Actividades'][ptd.actividades['otras_Actividades']['Actividad'] != a].reset_index(drop=True)\n",
    "\n",
    "pd.set_option('display.max_rows', 500)\n",
    "pd.set_option('display.width', 120)\n",
    "\n",
    "for k in ptd.actividades.keys():\n",
    "    # tmp: fixed old database\n",
    "    if 'estado' not in ptd.actividades[k].columns:\n",
    "        ptd.actividades[k]['estado'] = 'Aprobado'\n",
    "    display( HTML(f\"<h2>{k.replace('_',' ')}</h2> <hr />\") )\n",
    "    if not ptd.actividades[k].empty:\n",
    "        display( ptd.actividades[k][['identificación','Centro gestor','Actividad','Descripción','estado']]) #Add 'estado'"
   ]
  },
  {
   "cell_type": "markdown",
   "id": "868a8115-955e-44ee-b1fd-b724d068e93f",
   "metadata": {},
   "source": [
    "TODO: Use [`textualize`](https://textual.textualize.io/) when not in Jupyter:\n",
    "```python\n",
    "# How can I check if code is executed in the IPython notebook?\n",
    "#https://stackoverflow.com/a/39662359\n",
    "get_ipython().__class__.__name__\n",
    "```"
   ]
  },
  {
   "cell_type": "markdown",
   "id": "c0404bfa-4e7d-423a-86ef-5d8bb77aa85a",
   "metadata": {},
   "source": [
    "# Apéndice\n",
    "## Análisis implementados:\n",
    "El plan de trabajo es devuelto sí\n",
    "1. Horas reportadas y horas a completar no coinciden\n",
    "2. Cursos con cero horas o cero alumnos no pueden tener horas planeadas\n",
    "3. Proyectos de Investigación deben tener código SIIU\n",
    "4. \"Actividades de apoyo a la gestión académica-administrativa\" o reuniones por 45 horas\n",
    "5. Es oblogatorio incluir horas en \"Atención a estudiantes\"\n",
    "\n",
    "Sí se detecta algún compromiso el Plan de Trabajo es autorizado con un link para subir entregables.\n",
    "\n",
    "Se lista al final del programa la lista de actividades de planes de trabajo, por si requieren devolverse por algo adicional\n",
    "\n",
    "## Lineamientos Plan de Trabajo\n",
    "* [Lineamientos Plan de Trabajo.pdf](https://drive.google.com/file/d/1Podcl-IFFWmBEz2XZezyDhRIvKxykKXF/view?usp=sharing) (Aprobados en el Consejo de Facultad Acta 128 del 09 de septiembre de 2020)\n",
    "\n",
    "\n",
    "1. Todo profesor deberá participar en la responsabilidad del desarrollo de un curso o de un componente curricular (art. 20 Estatuto Profesoral – AS 083/96).\n",
    "2. → Al menos una de las siguientes actividades: __investigación__, producción académica (actividades relacionadas con la de investigación), capacitación (actividades relacionadas con la de docencia (ARLD)), actualización (ARLD) o __extensión__\n",
    "3. __Actividades de Docencia__:\n",
    "    1. Cursos dirigidos (código 96): __1 hora/semana__ por estudiante.\n",
    "    2. Cursos regulares __hasta 25__ estudiantes: Por cada hora lectiva se asigna __1.75 horas de preparación__. por cada hora lectiva se asigna __0,5 horas por atención__.\n",
    "    3. Cursos con entre __26 y 40__ estudiantes. Por cada hora lectiva se asignan __1.25  horas de preparación__, __además de 0.5 por atención__.\n",
    "    4. Cursos semi-masivos: Es aquel que tiene entre __41 y 59__ estudiantes. Por cada  hora lectiva se asignan __1.5 horas de preparación__, además de __0.75 por  atención__.\n",
    "    5. Cursos masivos: Es aquel que cuente con __60 o más__ estudiantes matriculados. Por cada hora lectiva se asigna __1.75 horas de preparación__, además de __1 por  atención__.\n",
    "    6. Preparación de un curso nuevo: __Hasta 72 horas__ por curso teórico o teórico práctico\n",
    "    7. Preparación de cursos que no se han dictado en los últimos 5 años: __18  horas adicionales__ al semestre por curso de núcleo medio y __36 horas  adicionales por curso avanzado o de posgrado__.\n",
    "    8. Asesoría (o tutoría) de estudiantes de pregrado en semestre _previo a  matricular el Seminario de trabajo de grado_: __Hasta 18 horas__ al semestre  por estudiante y un máximo de tres estudiantes. Se debe entregar soporte de las reuniones y un  informe con las actividades desarrolladas por cada estudiante o el  proyecto de grado cuando corresponda.\n",
    "    9. Producción de _material de docencia_: __Hasta 90 horas__ al semestre. El  docente debe presentar el entregable concertado con el Director, para ser  enviado a evaluación.\n",
    "    10. Docente Enlace: Se refiere a aquellos profesores que, junto con un asesor externo, orientan trabajos de grado en cualquier modalidad. Se reconocen __hasta 10 horas__ al semestre por estudiante y un máximo de tres  estudiantes.\n",
    "    11. Comités tutoriales de posgrado (diferentes a la Dirección de Trabajos de  grado): __Hasta 10 horas__ al semestre por estudiante. El comité debe redactar  y presentar un informe semestral dando cuenta del avance del estudiante.  Un profesor puede pertenecer a un máximo de tres comités.\n",
    "    12. Trabajos de grado en otras dependencias: La dependencia debe cargar el  curso al docente con su respectivo número de horas. Se reconocen las  horas de acuerdo al registro de MARES. No se reconocen horas cuando  el estudiante no haya matriculado el curso.\n",
    "    13. Trabajos de grado con Universidades con las cuales se tiene convenio: el  estudiante o el profesor debe legalizar la movilidad en la oficina de  Relaciones Internacionales, para que el curso quede registrado en MARES con sus respectivas horas. No se reconocen horas por lo que no  quede allí registrado.\n",
    "    14. MARES con sus respectivas horas. No se reconocen horas por lo que no  quede allí registrado. Trabajos de grado declarados en Incompleto: Hasta 18 horas al semestre  por una única vez. Asesoría de estudiantes de posgrado en prórroga: __Hasta 18 horas__ al  semestre.\n",
    "    15. Reuniones de grupo: __Hasta 20 horas__ por semestre\n",
    "4. __Actividades de Investigación__:\n",
    "    5. Proyectos aprobados por CODI, a través de convenios con entidades  externas o registrados y aprobados en el SIIU: Se reportan las  horas/semana que hayan sido avaladas cuando se aprobó el proyecto. El  plan de trabajo corresponde a __40 horas__ semana por 22.5 semanas para  un total de 900 horas semestre. Sin embargo, nótese que la plataforma  automáticamente multiplica por 26 semanas. Por lo tanto, se debe hacer  la corrección.\n",
    "    6. Las horas avaladas incluyen la elaboración de manuscritos e informes del  proyecto. Un docente tendrá un máximo de 30 horas semana  (equivalentemente, 675 horas al semestre) dedicadas a la investigación.  Así que debe enseñar un al menos un curso y dejar __45 horas__ de  disponibilidad administrativa.\n",
    "    7. En el Plan de Trabajo se debe consignar el nombre del proyecto, acta de  inicio, fecha de inicio y rol del profesor en el proyecto (investigador  principal co-investigador).\n",
    "    8. Para proyectos financiados por entidades externas, debe incluirse el  mismo número de horas que fueron avaladas y que constituyen la  contrapartida de la Universidad. \n",
    "5. __Actividades relacionadas con investigación__:\n",
    "    5. Coordinación de grupo de Investigación: __Hasta 70 horas__\n",
    "    6. Elaboración de proyectos de Investigación: __Hasta 60 horas__ al semestre  por la preparación de un proyecto y __hasta 90 horas__ al semestre por dos o  más proyectos\n",
    "    7. Proyectos en prórroga: __Hasta el número de horas avaladas para el  proyecto__. Se debe presentar el aval de la prórroga.\n",
    "    8. Participación como jurado de tesis de posgrado: __Hasta 16 horas__ al  semestre. Solo se reconocen horas por evaluación de tesis cuando la labor  haya sido asignada; se debe presentar la solicitud que le fue enviada al  profesor.\n",
    "    9. Evaluación como par evaluador de manuscritos sometidos a revista  indexada: __Hasta 10 horas__ por artículo evaluado. Solo se reconocen las horas cuando se presente la solicitud enviada al profesor por parte del  editor de la revista.\n",
    "    10. Escritura de artículos, libros y capítulos de libros que no estén adscritos a proyectos de investigación y sus entregables deben concertarse con el  director.\n",
    "\n",
    "6. __Actividades de Extensión__:\n",
    "    7. Proyectos inscritos en la plataforma de servicios de extensión, se reportan  las horas/semana que hayan sido avaladas cuando se aprobó el proyecto.  Para el total de horas semestre se multiplica por 22,5 semanas.\n",
    "7. __Actividades relacionadas con Extensión__\n",
    "    1. Para las actividades no inscritas en la plataforma de servicios de extensión  y formalizadas con contratos o convenios, se reportan las horas/semana  que hayan sido avaladas cuando se aprobó el proyecto. Por favor verifique  que el proyecto se encuentra vigente para el semestre en curso. Si culmina  antes de terminar el semestre, calcule las horas proporcionales al número  de semanas hasta la vigencia del proyecto.\n",
    "    2. Coordinación de proyectos de Extensión: Se coloca el número de horas  avalado por el Consejo de Facultad multiplicado por 22.5.\n",
    "    3. Coordinación de servicios de Extensión: Depende de la cantidad de  servicios que se presta y las horas se deben concertar con el director del  instituto. El profesor debe enviar un informe de los servicios prestados  durante el semestre.\n",
    "    4. Preparación proyectos de Extensión: __Hasta 60 horas__ al semestre por la  preparación de un proyecto y __hasta 90 horas__ al semestre por dos o más  proyectos. El entregable consiste en el certificado de presentación del  proyecto a la convocatoria o al Centro de Extensión para inscripción en \"Portafolio\". Esto no aplica a los docentes con proyectos vigentes que  tengan como compromiso la presentación de un nuevo proyecto, en cuyo  caso las horas se incluyen dentro de la dedicación al proyecto.\n",
    "    6. Asesoría y/o evaluación de proyectos de Extensión: Hasta 10 horas al  semestre. Solo se reconocen horas por evaluación de proyectos cuando  la labor haya sido asignada presentando la solicitud que le fue enviada al  profesor.\n",
    "  \n",
    "8. __ADMINISTRACIÓN ACADÉMICA__: \n",
    "    1. Coordinación de cursos de pregrado y posgrado: __hasta 20 horas__ por curso  y 4 horas adicionales por cada grupo. El número máximo por coordinación  es de 180 horas al semestre.\n",
    "    2. Coordinación de programas de posgrado: __Hasta 225 horas__ al semestre  (aparece en los lineamientos de la dirección de posgrado).\n",
    "    3. Coordinación de Extensión: __hasta 45 horas__ al semestre.\n",
    "    4. Coordinación de Internacionalización: __hasta 45__ horas al semestre.\n",
    "    5. Coordinación de prácticas: __hasta 150 horas__ al semestre para el  coordinador por instituto y hasta 300 para el coordinador de la facultad  (Acuerdo de facultad 172 de 2017).\n",
    "    6. Coordinación de áreas: __hasta 45 horas__ al semestre (Acuerdo de Facultad  191 del 16 de marzo de 2017)\n",
    "    7. Coordinación de Comités: según esté estipulado en el acto de creación del  Comité; de lo contrario se debe concertar con el Director de Instituto.\n",
    "    8. Coordinación de regionalización: __hasta 300 horas__ al semestre.\n",
    "    9. Dirección de revista: Se rige por RR 22863 del 9 de agosto de 2006.\n",
    "\n",
    "9. __OTRAS ACTIVIDADES__\n",
    "    1. Actividades de apoyo a la gestión académico administrativa: __45 horas__ al  semestre que incluyen reuniones de facultad, de instituto y reuniones  ordinarias de las áreas. Es de obligatoria inclusión.\n",
    "    2. Actividades de currículo o diseño curricular: __hasta 45 horas__ semestre que  incluyen las actividades de autoevaluación, acreditación y revisión de  cursos. Sólo aplica a los profesores con actividades curriculares\n",
    "    3. Docente enlace biblioteca. __Hasta 22,5 horas__ al semestre.\n",
    "    4. Asistencia en procesos de admisión de pregrado: __hasta 12 horas__ al  semestre.\n",
    "    5. Año Sabático: sólo lo reportan aquellos que tienen resolución para tomarlo.\n",
    "    6. Comisión de estudio: sólo se registran una vez emitida la resolución  respectiva.\n",
    "    7. Comisión administrativa externa sólo se registran una vez emitida la  resolución respectiva\n",
    "    8. Representación institucional en consejos y comités sólo se registran una  vez emitida la resolución respectiva.\n",
    "    9. Claustro de profesores: hasta 10 horas al semestre. \n",
    "\n",
    "8. __Capacitación__: Incluir las horas que se dedican a capacitación, especificando el nombre de  la actividad. Se requiere presentar cumplido al final del semestre. Se pueden  incluir hasta un 25% de horas adicionales a las presenciales, cuando el  programa lo amerite.  \n",
    "\n",
    "\n",
    "\n",
    "### Definiciones\n",
    "* *Actividades lectivas*: son modalidades de docencia que reúnen las siguientes características: son formativas, programadas, regulares, obligatorias para los estudiantes, evaluables, y su realización exige una preparación por parte del profesor. Comprenden la exposición y análisis en cursos, seminarios y talleres; la dirección o coordinación de talleres, seminarios, trabajos de campo o actividades prácticas profesionales; y la asesoría de monografías, tesis y trabajos de investigación y de grado. La disponibilidad para atender a los estudiantes no hará parte de la actividad lectiva\n",
    "* *Cursos masivos*: se considera un curso masivo aquel que tenga matriculados más de 60 estudiantes.\n",
    "* *Cursos semi-masivos*: Es aquel que tiene entre 41 y 59 estudiantes. \n",
    "* *Duración semestre*: En todos los casos se multiplica por 18, que es el número de semanas planeadas para el semestre."
   ]
  },
  {
   "cell_type": "code",
   "execution_count": null,
   "id": "06f23fd3-21db-4a1e-9c72-22338b85b4a7",
   "metadata": {},
   "outputs": [],
   "source": []
  }
 ],
 "metadata": {
  "kernelspec": {
   "display_name": "Python 3 (ipykernel)",
   "language": "python",
   "name": "python3"
  },
  "language_info": {
   "codemirror_mode": {
    "name": "ipython",
    "version": 3
   },
   "file_extension": ".py",
   "mimetype": "text/x-python",
   "name": "python",
   "nbconvert_exporter": "python",
   "pygments_lexer": "ipython3",
   "version": "3.11.2"
  }
 },
 "nbformat": 4,
 "nbformat_minor": 5
}
