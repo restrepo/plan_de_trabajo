{
 "cells": [
  {
   "attachments": {},
   "cell_type": "markdown",
   "id": "c0ca097d-0d82-4f3f-9a34-71655e432bf1",
   "metadata": {},
   "source": [
    "# Plan de trabajo UdeA\n",
    "## Installation\n",
    "1. Donload this `notebook` by following [this link](https://raw.githubusercontent.com/restrepo/plan_de_trabajo/main/ptd.ipynb)\n",
    "\n",
    "2. Save with: <kbd>Ctrl</kbd>+<kbd>S</kbd>\n",
    "\n",
    "3. Remove:  `.txt` \n",
    "\n",
    " [![enter image description here][1]][1]\n",
    "\n",
    "4. Download and install Anaconda from [here](https://www.anaconda.com/download/success), and from the \"Anaconda Navigation\" window, choose \"JupyterLab\":\n",
    "   \n",
    "![image](https://github.com/restrepo/plan_de_trabajo/assets/655883/860c34b0-4052-43a7-82f9-0d577cc3c528)\n",
    "\n",
    "5. Now navigate to the directory where `noebook` is downloaded in \"JupyterLab\"  and open it.\n",
    "\n",
    "6. Use <kbd>Shift</kbd>+<kbd>Enter</kbd> to execute each cell, sequantially\n",
    "\n",
    "\n",
    "  [1]: https://i.stack.imgur.com/Av30W.png"
   ]
  },
  {
   "cell_type": "code",
   "execution_count": 1,
   "id": "8b6f4282-807a-4ee5-86e4-c2b22d898909",
   "metadata": {},
   "outputs": [],
   "source": [
    "try:\n",
    "    import helium\n",
    "except:\n",
    "    import os\n",
    "    os.system('pip install helium') \n",
    "    os.system('conda install -c conda-forge ipywidgets') #jupyterlab_widgets also intalled\n",
    "    print(\"Restart of the notebook is requiered. From the menu: `File → Shut Down` and open again from 'Anaconda Navigator'\" )"
   ]
  },
  {
   "cell_type": "code",
   "execution_count": 2,
   "id": "d46c4861-8ed9-4d41-b03e-278a4efdae09",
   "metadata": {},
   "outputs": [],
   "source": [
    "# Get python file from GitHub if not avalaible\n",
    "from os.path import isfile\n",
    "py_file = 'plan_de_trabajo.py'\n",
    "if not isfile(py_file):\n",
    "    import requests\n",
    "    \n",
    "    fpy = requests.get(f'https://raw.githubusercontent.com/restrepo/plan_de_trabajo/main/{py_file}')\n",
    "    \n",
    "    if fpy.status_code == 200:\n",
    "        f = open(py_file,'w',encoding=\"utf8\")\n",
    "        f.write(fpy.text)\n",
    "        f.close()"
   ]
  },
  {
   "cell_type": "code",
   "execution_count": 1,
   "id": "755d7021-58f5-4e8d-9b86-e28953d4ce9d",
   "metadata": {},
   "outputs": [
    {
     "data": {
      "application/vnd.jupyter.widget-view+json": {
       "model_id": "e52e3d9081a142e98bc4a491471e9aef",
       "version_major": 2,
       "version_minor": 0
      },
      "text/plain": [
       "RadioButtons(description='Salvar la base de datos', options=(True, False), value=True)"
      ]
     },
     "metadata": {},
     "output_type": "display_data"
    },
    {
     "data": {
      "application/vnd.jupyter.widget-view+json": {
       "model_id": "668c5b06a2294d6f9c4d3fb66856ffaf",
       "version_major": 2,
       "version_minor": 0
      },
      "text/plain": [
       "RadioButtons(description='Actualizar la base de datos', options=(True, False), value=True)"
      ]
     },
     "metadata": {},
     "output_type": "display_data"
    },
    {
     "data": {
      "application/vnd.jupyter.widget-view+json": {
       "model_id": "6fdaa90fc7d448dc8104214a05e1354a",
       "version_major": 2,
       "version_minor": 0
      },
      "text/plain": [
       "RadioButtons(description='Enviar el plan de trabajo al profesor', index=1, options=(True, False), value=False)"
      ]
     },
     "metadata": {},
     "output_type": "display_data"
    },
    {
     "data": {
      "application/vnd.jupyter.widget-view+json": {
       "model_id": "276b517aa3794e9a8cef51268440ce96",
       "version_major": 2,
       "version_minor": 0
      },
      "text/plain": [
       "RadioButtons(description='Autenticarse de nuevo', index=1, options=(True, False), value=False)"
      ]
     },
     "metadata": {},
     "output_type": "display_data"
    },
    {
     "data": {
      "application/vnd.jupyter.widget-view+json": {
       "model_id": "ba3ddf6bceba47b6b50599153e8f93d4",
       "version_major": 2,
       "version_minor": 0
      },
      "text/plain": [
       "RadioButtons(description='RESET i: ignorando la base de datos', index=1, options=(True, False), value=False)"
      ]
     },
     "metadata": {},
     "output_type": "display_data"
    },
    {
     "name": "stdout",
     "output_type": "stream",
     "text": [
      "────────────────────────────────────────────────────────────────────────────────\n"
     ]
    },
    {
     "data": {
      "application/vnd.jupyter.widget-view+json": {
       "model_id": "e823d811289a436ca7398f94e84e0e93",
       "version_major": 2,
       "version_minor": 0
      },
      "text/plain": [
       "Dropdown(description='Profesores', index=1, options=('Instituto', 'Todos'), value='Todos')"
      ]
     },
     "metadata": {},
     "output_type": "display_data"
    },
    {
     "data": {
      "application/vnd.jupyter.widget-view+json": {
       "model_id": "ae8f5fdb4848466885cec7d942fdbbaa",
       "version_major": 2,
       "version_minor": 0
      },
      "text/plain": [
       "Dropdown(description='Estado', index=1, options=('Autorizado', 'Aprobado', 'Diligenciado', 'Devuelto para revi…"
      ]
     },
     "metadata": {},
     "output_type": "display_data"
    },
    {
     "data": {
      "application/vnd.jupyter.widget-view+json": {
       "model_id": "65290f0072a942249033e4ea865f70f6",
       "version_major": 2,
       "version_minor": 0
      },
      "text/plain": [
       "Dropdown(description='Semestre', index=4, options=('2024-1', '2023-2', '2023-1', '2022-2', '2022-1', '2021-2',…"
      ]
     },
     "metadata": {},
     "output_type": "display_data"
    }
   ],
   "source": [
    "from plan_de_trabajo import *\n",
    "# For not interactive mode, define `defaults` list:\n",
    "#  `defaults` must be defined according to the order of radios and drops keys below, and can be used outside jupyter\n",
    "radios,drops = get_config(defaults=[True, True, False, False, False,'Todos','Aprobado','2022-1']) # Usually (defaults = [])\n",
    "file = 'ptd_fcen_20221.json' # '' #"
   ]
  },
  {
   "cell_type": "code",
   "execution_count": null,
   "id": "c12121f8-2bb7-486b-a930-76a520ed8525",
   "metadata": {},
   "outputs": [
    {
     "name": "stdout",
     "output_type": "stream",
     "text": [
      "Using existing local encrypted login file from previos run: ./login.enc\n",
      "wait fo 2 seconds                                                               \r"
     ]
    },
    {
     "name": "stdin",
     "output_type": "stream",
     "text": [
      "Captcha solved? (Hit <Enter> \n"
     ]
    },
    {
     "name": "stdout",
     "output_type": "stream",
     "text": [
      "wait for 5 sec\n",
      "78 records in database\n",
      "Incialización para ptd_fcen_20221.json con len: 78 e i_page = 4\n",
      "180: 19 : 9nds... 4                                                             \n",
      "va 18\n",
      "in loop: 18\n",
      "page: 4; i: 18                                                                  \n",
      "Docente: ISABEL\n",
      "Already in database\n",
      "page: 4; i: 19                                                                  \n",
      "Docente: ALEXANDER\n",
      "Already in database\n",
      "page: 4; i: 20                                                                  \n",
      "Docente: LUCY                                                                   \n",
      "Already in database\n",
      "page: 5; i: 1                                                                   \n",
      "Docente: ALEJANDRO\n",
      "page: 5; i: 2 ...                                                               \n",
      "Docente: ANDRES\n",
      "page: 5; i: 3 ...                                                               \n",
      "Docente: ALBERTO\n",
      "page: 5; i: 4 ...                                                               \n",
      "Docente: ESTEBAN\n",
      "wait 2 seconds...                                                               \r"
     ]
    }
   ],
   "source": [
    "SAVE_DATABASE = radios['Salvar la base de datos'].get_interact_value()\n",
    "UPDATE_DATABASE = radios['Actualizar la base de datos'].get_interact_value()\n",
    "ENVIAR = radios['Enviar el plan de trabajo al profesor'].get_interact_value()\n",
    "TODOS = False\n",
    "if drops['Grupo de profesores'].get_interact_value() == 'Todos':\n",
    "    TODOS = True\n",
    "NEW_LOGIN = radios['Autenticarse de nuevo'].get_interact_value()\n",
    "RESET_i = radios['RESET i: ignorando la base de datos']\n",
    "ESTADO = drops['Estado del plan de trabajo'].get_interact_value()\n",
    "SEMESTRE = drops['Semestre'].get_interact_value()\n",
    "if not file:\n",
    "    file = input('Nombre para el archivo de salida en json. e.g:\\nptd_fcen_20222.json\\n')\n",
    "\n",
    "if not NEW_LOGIN:\n",
    "    driver = hell.start_chrome()\n",
    "#else:\n",
    "#    raise Exception('set NEW_LOGIN = False')\n",
    "    \n",
    "login()\n",
    "\n",
    "print('wait for 5 sec')\n",
    "sleep(5)\n",
    "lptd = []\n",
    "if UPDATE_DATABASE:\n",
    "    try:\n",
    "        f=open(file,'r')\n",
    "        lptd = json.load(f)\n",
    "        f.close()\n",
    "    except:\n",
    "        pass\n",
    "print(f'{len(lptd)} records in database' )\n",
    "\n",
    "\n",
    "guess_page = int(len(lptd)/20)+1\n",
    "\n",
    "\n",
    "#TODO: Calculate i_page fron len(lptd))\n",
    "print(f'Incialización para {file} con len: {len(lptd)} e i_page = {guess_page}')\n",
    "ptd = PTD(i_page=guess_page)    # Clean object\n",
    "\n",
    "#while True: # ptd.get_docente() genera error cuando no hya más autores\n",
    "ptd.estado = ESTADO\n",
    "ptd.semestre = SEMESTRE\n",
    "ptd.todos = TODOS # Comment for False\n",
    "#if ptd.todos and ENVIAR: #TODO → Check for Decano submissions\n",
    "#    ENVIAR = False\n",
    "# TODO: (Semestre*,YYYY-S),  (Centro gestor, Todos) \n",
    "if ptd.NEXT_STEP:\n",
    "    ptd.gestionar_planes(institutos = ['BIOLOGIA','FISICA','MATEMATICA','QUIMICA', 'CIENCIAS DEL MAR'],SINGLE = False)\n",
    "else:\n",
    "    raise Exception('Búsqueda fallida')\n",
    "\n",
    "hell.wait_until(hell.Text('Fecha inicio semestre').exists,timeout_secs=180)\n",
    "ptd.go_to_initial_page() #TODO: Define self.i_page here from guess_page\n",
    "\n",
    "# TODO: i cannot depend on lptd if lptd is updated in a new run\n",
    "RESET_i = False # Configuratins at beggining\n",
    "if RESET_i:\n",
    "    i=0\n",
    "    ptd.i_page = 0\n",
    "else:\n",
    "    i = len(lptd)-(ptd.i_page-1)*ptd.n_page # For new data append to old database\n",
    "\n",
    "# Obtain registros totales (Default: ptd.n_total = 1000)\n",
    "try:\n",
    "    ptd.n_total = eval( hell.get_driver().find_element(\n",
    "        By.CLASS_NAME , 'col-md-2').text.split('\\n')[0] )\n",
    "except:\n",
    "    pass\n",
    "\n",
    "i_max , i_page_max = ptd.get_max_indices()\n",
    "print(f'{ptd.n_total}: {i_max} : {i_page_max}')\n",
    "\n",
    "\n",
    "for j in range(5):\n",
    "    print('va',i)\n",
    "    if hell.Text('Volver').exists():\n",
    "        hell.click('Volver')\n",
    "    try:\n",
    "        print('in loop:',i)\n",
    "        i,lptd,ptd = loop(i, lptd, ptd, SAVE_DATABASE, ENVIAR, file)\n",
    "    except:\n",
    "        if i == i_max and ptd.i_page == i_page_max:\n",
    "            raise Exception('The final End')        \n",
    "        print('j',j)\n",
    "        print('wait 60 seconds...')\n",
    "        sleep(60)\n",
    "        if not hell.Text(\"Gestión de planes de trabajo\").exists():\n",
    "                if hell.Text('CONTINUAR').exists():\n",
    "                    hell.click('CONTINUAR')\n",
    "                if hell.Text('Aceptar').exists():\n",
    "                    hell.click('Aceptar')\n",
    "                if hell.Text('Volver').exists():\n",
    "                    hell.click('Volver')\n",
    "                print('va')\n",
    "    \n",
    "        # Login again\n",
    "        if not hell.Text(\"Gestión de planes de trabajo\").exists():\n",
    "            #raise Exception('Check what is happening')\n",
    "            #check_login_page = input('Check if login is necessary (Y/N):')\n",
    "            #if check_login_page == 'Y' or check_login_page == 'y' or check_login_page == 'yes':\n",
    "            if not hell.Text(\"Gestión de planes de trabajo\").exists() and not hell.Text('Fecha inicio semestre').exists():\n",
    "                #Probably log out\n",
    "                login()\n",
    "                url=\"https://ayudame2.udea.edu.co/php_app/?app=inicio&appid=PLANDOCEN\"\n",
    "                hell.go_to(url)\n",
    "                # Uses current configuration\n",
    "                ptd.gestionar_planes(institutos = ['BIOLOGIA','FISICA','MATEMATICA','QUIMICA', 'CIENCIAS DEL MAR'],SINGLE = False)\n",
    "                hell.wait_until(hell.Text('Fecha inicio semestre').exists,timeout_secs=180)\n",
    "                ptd.go_to_initial_page()\n",
    "        if not RESET_i:\n",
    "            print(f'previous i {i}')\n",
    "            i = len(lptd)-(ptd.i_page-1)*ptd.n_page + 1 # set i inside except:\n",
    "            print(f'new i {i}')\n",
    "        \n",
    "    if i < 0:\n",
    "        raise Exception('ERROR: Negative i, restart kernel and run again')\n",
    "    #TODO: How to break\n",
    "    if i == i_max and ptd.i_page == i_page_max:\n",
    "        raise Exception('The End')"
   ]
  },
  {
   "cell_type": "code",
   "execution_count": null,
   "id": "1658850e-96ff-48fc-818b-f97e4a002c50",
   "metadata": {},
   "outputs": [],
   "source": [
    "! git commit -am 'lc'\n",
    "! git push"
   ]
  },
  {
   "cell_type": "markdown",
   "id": "5cc7a053-cc85-4670-8e62-72ca3a1f2447",
   "metadata": {},
   "source": [
    "__________________"
   ]
  },
  {
   "cell_type": "code",
   "execution_count": 2,
   "id": "1aae9685-b899-4b30-a3aa-e4bcb60bac9e",
   "metadata": {},
   "outputs": [],
   "source": [
    "%load_ext autoreload"
   ]
  },
  {
   "cell_type": "code",
   "execution_count": 3,
   "id": "a53238bf-8803-4146-9840-a32e01135b71",
   "metadata": {},
   "outputs": [],
   "source": [
    "%autoreload 2"
   ]
  },
  {
   "cell_type": "markdown",
   "id": "868a8115-955e-44ee-b1fd-b724d068e93f",
   "metadata": {},
   "source": [
    "TODO: Use [`textualize`](https://textual.textualize.io/) when not in Jupyter:\n",
    "```python\n",
    "# How can I check if code is executed in the IPython notebook?\n",
    "#https://stackoverflow.com/a/39662359\n",
    "get_ipython().__class__.__name__\n",
    "```"
   ]
  },
  {
   "cell_type": "markdown",
   "id": "04014d79-0a28-463e-a5d0-1ed184359941",
   "metadata": {},
   "source": [
    "## Activities\n",
    "Manually check activities and creates a dictionary with the observations to be added\n",
    "\n",
    "TODO:\n",
    "\n",
    "```python\n",
    "observaciones = [\n",
    "{'identificación_1':'texto de observaciones 1'},\n",
    "{'identificación_2':'texto de observaciones 2'},\n",
    "...\n",
    "]\n",
    "```"
   ]
  },
  {
   "cell_type": "code",
   "execution_count": 9,
   "id": "2cc336d2-22d3-4ae5-a738-64c9ccbd4f2d",
   "metadata": {},
   "outputs": [],
   "source": [
    "ptd.get_actividades()"
   ]
  },
  {
   "cell_type": "code",
   "execution_count": 11,
   "id": "94464020-003b-4f0d-8588-d33cc35a2f6c",
   "metadata": {},
   "outputs": [
    {
     "data": {
      "text/plain": [
       "dict_keys(['actividades_relacionadas_con_la_docencia', 'actividades_relacionadas_con_la_investigación', 'actividades_relacionadas_con_la_extensión', 'otras_Actividades'])"
      ]
     },
     "execution_count": 11,
     "metadata": {},
     "output_type": "execute_result"
    }
   ],
   "source": [
    "p{usuario}td.actividades.keys()"
   ]
  },
  {
   "cell_type": "code",
   "execution_count": 16,
   "id": "813869f5-6dcc-4418-8f11-bda5aa67ef22",
   "metadata": {},
   "outputs": [
    {
     "data": {
      "text/html": [
       "<div>\n",
       "<style scoped>\n",
       "    .dataframe tbody tr th:only-of-type {\n",
       "        vertical-align: middle;\n",
       "    }\n",
       "\n",
       "    .dataframe tbody tr th {\n",
       "        vertical-align: top;\n",
       "    }\n",
       "\n",
       "    .dataframe thead th {\n",
       "        text-align: right;\n",
       "    }\n",
       "</style>\n",
       "<table border=\"1\" class=\"dataframe\">\n",
       "  <thead>\n",
       "    <tr style=\"text-align: right;\">\n",
       "      <th></th>\n",
       "      <th>Centro gestor</th>\n",
       "      <th>Actividad</th>\n",
       "      <th>Descripción</th>\n",
       "      <th>Semestre</th>\n",
       "      <th>Horas planeadas</th>\n",
       "      <th>identificación</th>\n",
       "    </tr>\n",
       "  </thead>\n",
       "  <tbody>\n",
       "    <tr>\n",
       "      <th>0</th>\n",
       "      <td>instituto de fisica</td>\n",
       "      <td>Preparación de productos derivados de investigación</td>\n",
       "      <td>Atención visita Prof. José Mejía López de la Pontificia Católica de Chile y  Preparación productos de investigación</td>\n",
       "      <td>2024-1</td>\n",
       "      <td>50</td>\n",
       "      <td>71760928</td>\n",
       "    </tr>\n",
       "    <tr>\n",
       "      <th>1</th>\n",
       "      <td>instituto de fisica</td>\n",
       "      <td>Reuniones de grupos de investigación</td>\n",
       "      <td>Reuniones grupos de investigación</td>\n",
       "      <td>2024-1</td>\n",
       "      <td>10</td>\n",
       "      <td>71760928</td>\n",
       "    </tr>\n",
       "    <tr>\n",
       "      <th>2</th>\n",
       "      <td>instituto de fisica</td>\n",
       "      <td>Coordinación grupo y/o proyecto de investigación</td>\n",
       "      <td>Coordinación del grupo de Física y Astrofísica\\nComputacional FACOM</td>\n",
       "      <td>2024-1</td>\n",
       "      <td>48</td>\n",
       "      <td>71386935</td>\n",
       "    </tr>\n",
       "    <tr>\n",
       "      <th>3</th>\n",
       "      <td>instituto de fisica</td>\n",
       "      <td>Preparación de proyectos de investigación</td>\n",
       "      <td>Investigador en proyecto \"MODELOS DE LÍNEAS DE EMISIÓN EN DISCOS PROTOPLANETARIOS PARA OBSERVACIONES CON EL JWST\", aprobado como elegible en convocatoria programática CODI FCEN 2021-22, actualment...</td>\n",
       "      <td>2024-1</td>\n",
       "      <td>100</td>\n",
       "      <td>80073361</td>\n",
       "    </tr>\n",
       "  </tbody>\n",
       "</table>\n",
       "</div>"
      ],
      "text/plain": [
       "         Centro gestor                                            Actividad  \\\n",
       "0  instituto de fisica  Preparación de productos derivados de investigación   \n",
       "1  instituto de fisica                 Reuniones de grupos de investigación   \n",
       "2  instituto de fisica     Coordinación grupo y/o proyecto de investigación   \n",
       "3  instituto de fisica            Preparación de proyectos de investigación   \n",
       "\n",
       "                                                                                                                                                                                               Descripción  \\\n",
       "0                                                                                      Atención visita Prof. José Mejía López de la Pontificia Católica de Chile y  Preparación productos de investigación   \n",
       "1                                                                                                                                                                        Reuniones grupos de investigación   \n",
       "2                                                                                                                                      Coordinación del grupo de Física y Astrofísica\\nComputacional FACOM   \n",
       "3  Investigador en proyecto \"MODELOS DE LÍNEAS DE EMISIÓN EN DISCOS PROTOPLANETARIOS PARA OBSERVACIONES CON EL JWST\", aprobado como elegible en convocatoria programática CODI FCEN 2021-22, actualment...   \n",
       "\n",
       "  Semestre  Horas planeadas identificación  \n",
       "0   2024-1               50       71760928  \n",
       "1   2024-1               10       71760928  \n",
       "2   2024-1               48       71386935  \n",
       "3   2024-1              100       80073361  "
      ]
     },
     "execution_count": 16,
     "metadata": {},
     "output_type": "execute_result"
    }
   ],
   "source": [
    "ptd.actividades['actividades_relacionadas_con_la_investigación']"
   ]
  },
  {
   "cell_type": "code",
   "execution_count": 17,
   "id": "59fa7ca5-237d-420b-9c97-f5e1e3b236c2",
   "metadata": {},
   "outputs": [
    {
     "data": {
      "text/html": [
       "<div>\n",
       "<style scoped>\n",
       "    .dataframe tbody tr th:only-of-type {\n",
       "        vertical-align: middle;\n",
       "    }\n",
       "\n",
       "    .dataframe tbody tr th {\n",
       "        vertical-align: top;\n",
       "    }\n",
       "\n",
       "    .dataframe thead th {\n",
       "        text-align: right;\n",
       "    }\n",
       "</style>\n",
       "<table border=\"1\" class=\"dataframe\">\n",
       "  <thead>\n",
       "    <tr style=\"text-align: right;\">\n",
       "      <th></th>\n",
       "      <th>Centro gestor</th>\n",
       "      <th>Actividad</th>\n",
       "      <th>Descripción</th>\n",
       "      <th>Semestre</th>\n",
       "      <th>Horas planeadas</th>\n",
       "      <th>identificación</th>\n",
       "    </tr>\n",
       "  </thead>\n",
       "  <tbody>\n",
       "    <tr>\n",
       "      <th>0</th>\n",
       "      <td>instituto de fisica</td>\n",
       "      <td>Dedicación exclusiva</td>\n",
       "      <td>Dedicación exclusiva</td>\n",
       "      <td>2024-1</td>\n",
       "      <td>100</td>\n",
       "      <td>71760928</td>\n",
       "    </tr>\n",
       "    <tr>\n",
       "      <th>1</th>\n",
       "      <td>instituto de fisica</td>\n",
       "      <td>Claustro de profesores</td>\n",
       "      <td>Asambleas y claustros</td>\n",
       "      <td>2024-1</td>\n",
       "      <td>10</td>\n",
       "      <td>71760928</td>\n",
       "    </tr>\n",
       "    <tr>\n",
       "      <th>2</th>\n",
       "      <td>instituto de fisica</td>\n",
       "      <td>Reuniones de departamento, sección, administración o unidad académica</td>\n",
       "      <td>Reuniones disponibilidad administrativa</td>\n",
       "      <td>2024-1</td>\n",
       "      <td>90</td>\n",
       "      <td>71760928</td>\n",
       "    </tr>\n",
       "    <tr>\n",
       "      <th>3</th>\n",
       "      <td>instituto de fisica</td>\n",
       "      <td>Dedicación exclusiva</td>\n",
       "      <td>Dedicacion exclusiva para el proyecto \"Probando modelos de gravedad modificada con los datos de GAIA DR3\"</td>\n",
       "      <td>2024-1</td>\n",
       "      <td>90</td>\n",
       "      <td>71386935</td>\n",
       "    </tr>\n",
       "    <tr>\n",
       "      <th>4</th>\n",
       "      <td>instituto de fisica</td>\n",
       "      <td>Evaluación de material académico-investigativo</td>\n",
       "      <td>Permanentemente se me asigna como evaluador de propuestas de tesis de pregrado de astronomía, tesis de pregrado del instituto de física para distinciones, propouestas de investigación y tesis de p...</td>\n",
       "      <td>2024-1</td>\n",
       "      <td>27</td>\n",
       "      <td>71386935</td>\n",
       "    </tr>\n",
       "    <tr>\n",
       "      <th>5</th>\n",
       "      <td>instituto de fisica</td>\n",
       "      <td>Actividades de apoyo a la gestión académica-administrativa</td>\n",
       "      <td>Apoyo en el comité de posgrado del Instituto de Física\\nAsistencia a reuniones de instituto\\nAsistencia a reuniones de profesores de pregrado en astronomía\\nAsistencia a reuniones de facultad\\nOtr...</td>\n",
       "      <td>2024-1</td>\n",
       "      <td>45</td>\n",
       "      <td>71386935</td>\n",
       "    </tr>\n",
       "    <tr>\n",
       "      <th>6</th>\n",
       "      <td>instituto de fisica</td>\n",
       "      <td>Actividades de currículo y/o de rediseño curricular</td>\n",
       "      <td>Actividades Curriculares: Propuesta de v4 para pensum de Astronomía.</td>\n",
       "      <td>2024-1</td>\n",
       "      <td>76</td>\n",
       "      <td>80073361</td>\n",
       "    </tr>\n",
       "    <tr>\n",
       "      <th>7</th>\n",
       "      <td>instituto de fisica</td>\n",
       "      <td>Actividades de autoevaluación y acreditación</td>\n",
       "      <td>Miembro de la comisión de acreditación de pregrados del Instituto, coordinador de autoevaluación y acreditación del pregrado de Astronomía</td>\n",
       "      <td>2024-1</td>\n",
       "      <td>150</td>\n",
       "      <td>80073361</td>\n",
       "    </tr>\n",
       "    <tr>\n",
       "      <th>8</th>\n",
       "      <td>instituto de fisica</td>\n",
       "      <td>Actividades de apoyo a la gestión académica-administrativa</td>\n",
       "      <td>Apoyo en coordinación de programación de cursos del pregrado de Astronomía, participación en comité de pregrado por parte del pregrado de Astronomía.</td>\n",
       "      <td>2024-1</td>\n",
       "      <td>61</td>\n",
       "      <td>80073361</td>\n",
       "    </tr>\n",
       "    <tr>\n",
       "      <th>9</th>\n",
       "      <td>instituto de fisica</td>\n",
       "      <td>Representación o participación en Consejos o comités institucionales</td>\n",
       "      <td>Comité de género de la Facultad</td>\n",
       "      <td>2024-1</td>\n",
       "      <td>10</td>\n",
       "      <td>15370261</td>\n",
       "    </tr>\n",
       "    <tr>\n",
       "      <th>10</th>\n",
       "      <td>instituto de fisica</td>\n",
       "      <td>Profesor enlace con egresados</td>\n",
       "      <td>Actividades con egresados</td>\n",
       "      <td>2024-1</td>\n",
       "      <td>2</td>\n",
       "      <td>15370261</td>\n",
       "    </tr>\n",
       "    <tr>\n",
       "      <th>11</th>\n",
       "      <td>instituto de fisica</td>\n",
       "      <td>Actividades de apoyo a la gestión académica-administrativa</td>\n",
       "      <td>Reuniones de profesores</td>\n",
       "      <td>2024-1</td>\n",
       "      <td>45</td>\n",
       "      <td>15370261</td>\n",
       "    </tr>\n",
       "  </tbody>\n",
       "</table>\n",
       "</div>"
      ],
      "text/plain": [
       "          Centro gestor  \\\n",
       "0   instituto de fisica   \n",
       "1   instituto de fisica   \n",
       "2   instituto de fisica   \n",
       "3   instituto de fisica   \n",
       "4   instituto de fisica   \n",
       "5   instituto de fisica   \n",
       "6   instituto de fisica   \n",
       "7   instituto de fisica   \n",
       "8   instituto de fisica   \n",
       "9   instituto de fisica   \n",
       "10  instituto de fisica   \n",
       "11  instituto de fisica   \n",
       "\n",
       "                                                                Actividad  \\\n",
       "0                                                    Dedicación exclusiva   \n",
       "1                                                  Claustro de profesores   \n",
       "2   Reuniones de departamento, sección, administración o unidad académica   \n",
       "3                                                    Dedicación exclusiva   \n",
       "4                          Evaluación de material académico-investigativo   \n",
       "5              Actividades de apoyo a la gestión académica-administrativa   \n",
       "6                     Actividades de currículo y/o de rediseño curricular   \n",
       "7                            Actividades de autoevaluación y acreditación   \n",
       "8              Actividades de apoyo a la gestión académica-administrativa   \n",
       "9    Representación o participación en Consejos o comités institucionales   \n",
       "10                                          Profesor enlace con egresados   \n",
       "11             Actividades de apoyo a la gestión académica-administrativa   \n",
       "\n",
       "                                                                                                                                                                                                Descripción  \\\n",
       "0                                                                                                                                                                                      Dedicación exclusiva   \n",
       "1                                                                                                                                                                                     Asambleas y claustros   \n",
       "2                                                                                                                                                                   Reuniones disponibilidad administrativa   \n",
       "3                                                                                                 Dedicacion exclusiva para el proyecto \"Probando modelos de gravedad modificada con los datos de GAIA DR3\"   \n",
       "4   Permanentemente se me asigna como evaluador de propuestas de tesis de pregrado de astronomía, tesis de pregrado del instituto de física para distinciones, propouestas de investigación y tesis de p...   \n",
       "5   Apoyo en el comité de posgrado del Instituto de Física\\nAsistencia a reuniones de instituto\\nAsistencia a reuniones de profesores de pregrado en astronomía\\nAsistencia a reuniones de facultad\\nOtr...   \n",
       "6                                                                                                                                      Actividades Curriculares: Propuesta de v4 para pensum de Astronomía.   \n",
       "7                                                                Miembro de la comisión de acreditación de pregrados del Instituto, coordinador de autoevaluación y acreditación del pregrado de Astronomía   \n",
       "8                                                     Apoyo en coordinación de programación de cursos del pregrado de Astronomía, participación en comité de pregrado por parte del pregrado de Astronomía.   \n",
       "9                                                                                                                                                                           Comité de género de la Facultad   \n",
       "10                                                                                                                                                                                Actividades con egresados   \n",
       "11                                                                                                                                                                                  Reuniones de profesores   \n",
       "\n",
       "   Semestre  Horas planeadas identificación  \n",
       "0    2024-1              100       71760928  \n",
       "1    2024-1               10       71760928  \n",
       "2    2024-1               90       71760928  \n",
       "3    2024-1               90       71386935  \n",
       "4    2024-1               27       71386935  \n",
       "5    2024-1               45       71386935  \n",
       "6    2024-1               76       80073361  \n",
       "7    2024-1              150       80073361  \n",
       "8    2024-1               61       80073361  \n",
       "9    2024-1               10       15370261  \n",
       "10   2024-1                2       15370261  \n",
       "11   2024-1               45       15370261  "
      ]
     },
     "execution_count": 17,
     "metadata": {},
     "output_type": "execute_result"
    }
   ],
   "source": [
    "ptd.actividades['otras_Actividades']"
   ]
  },
  {
   "cell_type": "markdown",
   "id": "c0404bfa-4e7d-423a-86ef-5d8bb77aa85a",
   "metadata": {},
   "source": [
    "# Apéndice\n",
    "## Lineamientos Plan de Trabajo\n",
    "* [Lineamientos Plan de Trabajo.pdf](https://drive.google.com/file/d/1Podcl-IFFWmBEz2XZezyDhRIvKxykKXF/view?usp=sharing) (Aprobados en el Consejo de Facultad Acta 128 del 09 de septiembre de 2020)\n",
    "\n",
    "\n",
    "1. Todo profesor deberá participar en la responsabilidad del desarrollo de un curso o de un componente curricular (art. 20 Estatuto Profesoral – AS 083/96).\n",
    "2. → Al menos una de las siguientes actividades: __investigación__, producción académica (actividades relacionadas con la de investigación), capacitación (actividades relacionadas con la de docencia (ARLD)), actualización (ARLD) o __extensión__\n",
    "3. __Actividades de Docencia__:\n",
    "    1. Cursos dirigidos (código 96): __1 hora/semana__ por estudiante.\n",
    "    2. Cursos regulares __hasta 25__ estudiantes: Por cada hora lectiva se asigna __1.75 horas de preparación__. por cada hora lectiva se asigna __0,5 horas por atención__.\n",
    "    3. Cursos con entre __26 y 40__ estudiantes. Por cada hora lectiva se asignan __1.25  horas de preparación__, __además de 0.5 por atención__.\n",
    "    4. Cursos semi-masivos: Es aquel que tiene entre __41 y 59__ estudiantes. Por cada  hora lectiva se asignan __1.5 horas de preparación__, además de __0.75 por  atención__.\n",
    "    5. Cursos masivos: Es aquel que cuente con __60 o más__ estudiantes matriculados. Por cada hora lectiva se asigna __1.75 horas de preparación__, además de __1 por  atención__.\n",
    "    6. Preparación de un curso nuevo: __Hasta 72 horas__ por curso teórico o teórico práctico\n",
    "    7. Preparación de cursos que no se han dictado en los últimos 5 años: __18  horas adicionales__ al semestre por curso de núcleo medio y __36 horas  adicionales por curso avanzado o de posgrado__.\n",
    "    8. Asesoría (o tutoría) de estudiantes de pregrado en semestre _previo a  matricular el Seminario de trabajo de grado_: __Hasta 18 horas__ al semestre  por estudiante y un máximo de tres estudiantes. Se debe entregar soporte de las reuniones y un  informe con las actividades desarrolladas por cada estudiante o el  proyecto de grado cuando corresponda.\n",
    "    9. Producción de _material de docencia_: __Hasta 90 horas__ al semestre. El  docente debe presentar el entregable concertado con el Director, para ser  enviado a evaluación.\n",
    "    10. Docente Enlace: Se refiere a aquellos profesores que, junto con un asesor externo, orientan trabajos de grado en cualquier modalidad. Se reconocen __hasta 10 horas__ al semestre por estudiante y un máximo de tres  estudiantes.\n",
    "    11. Comités tutoriales de posgrado (diferentes a la Dirección de Trabajos de  grado): __Hasta 10 horas__ al semestre por estudiante. El comité debe redactar  y presentar un informe semestral dando cuenta del avance del estudiante.  Un profesor puede pertenecer a un máximo de tres comités.\n",
    "    12. Trabajos de grado en otras dependencias: La dependencia debe cargar el  curso al docente con su respectivo número de horas. Se reconocen las  horas de acuerdo al registro de MARES. No se reconocen horas cuando  el estudiante no haya matriculado el curso.\n",
    "    13. Trabajos de grado con Universidades con las cuales se tiene convenio: el  estudiante o el profesor debe legalizar la movilidad en la oficina de  Relaciones Internacionales, para que el curso quede registrado en MARES con sus respectivas horas. No se reconocen horas por lo que no  quede allí registrado.\n",
    "    14. MARES con sus respectivas horas. No se reconocen horas por lo que no  quede allí registrado. Trabajos de grado declarados en Incompleto: Hasta 18 horas al semestre  por una única vez. Asesoría de estudiantes de posgrado en prórroga: __Hasta 18 horas__ al  semestre.\n",
    "    15. Reuniones de grupo: __Hasta 20 horas__ por semestre\n",
    "4. __Actividades de Investigación__:\n",
    "    5. Proyectos aprobados por CODI, a través de convenios con entidades  externas o registrados y aprobados en el SIIU: Se reportan las  horas/semana que hayan sido avaladas cuando se aprobó el proyecto. El  plan de trabajo corresponde a __40 horas__ semana por 22.5 semanas para  un total de 900 horas semestre. Sin embargo, nótese que la plataforma  automáticamente multiplica por 26 semanas. Por lo tanto, se debe hacer  la corrección.\n",
    "    6. Las horas avaladas incluyen la elaboración de manuscritos e informes del  proyecto. Un docente tendrá un máximo de 30 horas semana  (equivalentemente, 675 horas al semestre) dedicadas a la investigación.  Así que debe enseñar un al menos un curso y dejar __45 horas__ de  disponibilidad administrativa.\n",
    "    7. En el Plan de Trabajo se debe consignar el nombre del proyecto, acta de  inicio, fecha de inicio y rol del profesor en el proyecto (investigador  principal co-investigador).\n",
    "    8. Para proyectos financiados por entidades externas, debe incluirse el  mismo número de horas que fueron avaladas y que constituyen la  contrapartida de la Universidad. \n",
    "5. __Actividades relacionadas con investigación__:\n",
    "    5. Coordinación de grupo de Investigación: __Hasta 70 horas__\n",
    "    6. Elaboración de proyectos de Investigación: __Hasta 60 horas__ al semestre  por la preparación de un proyecto y __hasta 90 horas__ al semestre por dos o  más proyectos\n",
    "    7. Proyectos en prórroga: __Hasta el número de horas avaladas para el  proyecto__. Se debe presentar el aval de la prórroga.\n",
    "    8. Participación como jurado de tesis de posgrado: __Hasta 16 horas__ al  semestre. Solo se reconocen horas por evaluación de tesis cuando la labor  haya sido asignada; se debe presentar la solicitud que le fue enviada al  profesor.\n",
    "    9. Evaluación como par evaluador de manuscritos sometidos a revista  indexada: __Hasta 10 horas__ por artículo evaluado. Solo se reconocen las horas cuando se presente la solicitud enviada al profesor por parte del  editor de la revista.\n",
    "    10. Escritura de artículos, libros y capítulos de libros que no estén adscritos a proyectos de investigación y sus entregables deben concertarse con el  director.\n",
    "\n",
    "6. __Actividades de Extensión__:\n",
    "    7. Proyectos inscritos en la plataforma de servicios de extensión, se reportan  las horas/semana que hayan sido avaladas cuando se aprobó el proyecto.  Para el total de horas semestre se multiplica por 22,5 semanas.\n",
    "7. __Actividades relacionadas con Extensión__\n",
    "    1. Para las actividades no inscritas en la plataforma de servicios de extensión  y formalizadas con contratos o convenios, se reportan las horas/semana  que hayan sido avaladas cuando se aprobó el proyecto. Por favor verifique  que el proyecto se encuentra vigente para el semestre en curso. Si culmina  antes de terminar el semestre, calcule las horas proporcionales al número  de semanas hasta la vigencia del proyecto.\n",
    "    2. Coordinación de proyectos de Extensión: Se coloca el número de horas  avalado por el Consejo de Facultad multiplicado por 22.5.\n",
    "    3. Coordinación de servicios de Extensión: Depende de la cantidad de  servicios que se presta y las horas se deben concertar con el director del  instituto. El profesor debe enviar un informe de los servicios prestados  durante el semestre.\n",
    "    4. Preparación proyectos de Extensión: __Hasta 60 horas__ al semestre por la  preparación de un proyecto y __hasta 90 horas__ al semestre por dos o más  proyectos. El entregable consiste en el certificado de presentación del  proyecto a la convocatoria o al Centro de Extensión para inscripción en \"Portafolio\". Esto no aplica a los docentes con proyectos vigentes que  tengan como compromiso la presentación de un nuevo proyecto, en cuyo  caso las horas se incluyen dentro de la dedicación al proyecto.\n",
    "    6. Asesoría y/o evaluación de proyectos de Extensión: Hasta 10 horas al  semestre. Solo se reconocen horas por evaluación de proyectos cuando  la labor haya sido asignada presentando la solicitud que le fue enviada al  profesor.\n",
    "  \n",
    "8. __ADMINISTRACIÓN ACADÉMICA__: \n",
    "    1. Coordinación de cursos de pregrado y posgrado: __hasta 20 horas__ por curso  y 4 horas adicionales por cada grupo. El número máximo por coordinación  es de 180 horas al semestre.\n",
    "    2. Coordinación de programas de posgrado: __Hasta 225 horas__ al semestre  (aparece en los lineamientos de la dirección de posgrado).\n",
    "    3. Coordinación de Extensión: __hasta 45 horas__ al semestre.\n",
    "    4. Coordinación de Internacionalización: __hasta 45__ horas al semestre.\n",
    "    5. Coordinación de prácticas: __hasta 150 horas__ al semestre para el  coordinador por instituto y hasta 300 para el coordinador de la facultad  (Acuerdo de facultad 172 de 2017).\n",
    "    6. Coordinación de áreas: __hasta 45 horas__ al semestre (Acuerdo de Facultad  191 del 16 de marzo de 2017)\n",
    "    7. Coordinación de Comités: según esté estipulado en el acto de creación del  Comité; de lo contrario se debe concertar con el Director de Instituto.\n",
    "    8. Coordinación de regionalización: __hasta 300 horas__ al semestre.\n",
    "    9. Dirección de revista: Se rige por RR 22863 del 9 de agosto de 2006.\n",
    "\n",
    "9. __OTRAS ACTIVIDADES__\n",
    "    1. Actividades de apoyo a la gestión académico administrativa: __45 horas__ al  semestre que incluyen reuniones de facultad, de instituto y reuniones  ordinarias de las áreas. Es de obligatoria inclusión.\n",
    "    2. Actividades de currículo o diseño curricular: __hasta 45 horas__ semestre que  incluyen las actividades de autoevaluación, acreditación y revisión de  cursos. Sólo aplica a los profesores con actividades curriculares\n",
    "    3. Docente enlace biblioteca. __Hasta 22,5 horas__ al semestre.\n",
    "    4. Asistencia en procesos de admisión de pregrado: __hasta 12 horas__ al  semestre.\n",
    "    5. Año Sabático: sólo lo reportan aquellos que tienen resolución para tomarlo.\n",
    "    6. Comisión de estudio: sólo se registran una vez emitida la resolución  respectiva.\n",
    "    7. Comisión administrativa externa sólo se registran una vez emitida la  resolución respectiva\n",
    "    8. Representación institucional en consejos y comités sólo se registran una  vez emitida la resolución respectiva.\n",
    "    9. Claustro de profesores: hasta 10 horas al semestre. \n",
    "\n",
    "8. __Capacitación__: Incluir las horas que se dedican a capacitación, especificando el nombre de  la actividad. Se requiere presentar cumplido al final del semestre. Se pueden  incluir hasta un 25% de horas adicionales a las presenciales, cuando el  programa lo amerite.  \n",
    "\n",
    "\n",
    "\n",
    "### Definiciones\n",
    "* *Actividades lectivas*: son modalidades de docencia que reúnen las siguientes características: son formativas, programadas, regulares, obligatorias para los estudiantes, evaluables, y su realización exige una preparación por parte del profesor. Comprenden la exposición y análisis en cursos, seminarios y talleres; la dirección o coordinación de talleres, seminarios, trabajos de campo o actividades prácticas profesionales; y la asesoría de monografías, tesis y trabajos de investigación y de grado. La disponibilidad para atender a los estudiantes no hará parte de la actividad lectiva\n",
    "* *Cursos masivos*: se considera un curso masivo aquel que tenga matriculados más de 60 estudiantes.\n",
    "* *Cursos semi-masivos*: Es aquel que tiene entre 41 y 59 estudiantes. \n",
    "* *Duración semestre*: En todos los casos se multiplica por 18, que es el número de semanas planeadas para el semestre."
   ]
  },
  {
   "cell_type": "markdown",
   "id": "f9e84cc8-c2ff-4687-8b69-5f89300d5959",
   "metadata": {},
   "source": [
    "pip install jupyterlab_myst"
   ]
  },
  {
   "cell_type": "markdown",
   "id": "05336d1e-251e-4cf6-a8fb-686df6b88fb6",
   "metadata": {},
   "source": [
    "```{csv-table} Frozen Delights!\n",
    ":header: \"Treat\", \"Quantity\", \"Description\"\n",
    "\n",
    "\"Albatross\", 2.99, \"On a stick!\"\n",
    "\"Crunchy Frog\", 1.49, \"If we took the bones out\n",
    "it wouldn't be crunchy, now would it?\"\n",
    "\"Gannet Ripple\", 1.99, \"On a stick!\"\n",
    "```"
   ]
  },
  {
   "cell_type": "markdown",
   "id": "df6bece7-73cd-4c09-97af-82c41c1d88d6",
   "metadata": {},
   "source": [
    "### Heading Level 3\n",
    "\n",
    "Try changing the number of `#`s to $n$[^math] to change the **depth** of the _heading_.\n",
    "\n",
    "1. Learn about [Markdown](https://en.wikipedia.org/wiki/Markdown)\n",
    "   - Go through a [tutorial](https://commonmark.org/help/tutorial/)\n",
    "\n",
    "[^math]: Where $n \\in \\mathbb{N}$ with $n \\leq 6$, or between an H1 and an H6!"
   ]
  },
  {
   "cell_type": "markdown",
   "id": "d86a28b2-d3ed-435e-993e-dc8b6546bf59",
   "metadata": {},
   "source": [
    "```{figure} https://source.unsplash.com/random/500x200/?mountain\n",
    ":label: my-fig\n",
    ":align: center\n",
    "\n",
    "My **bold** mountain 🏔🚠.\n",
    "```\n",
    "\n",
    "Check out [](#my-fig)!!"
   ]
  },
  {
   "cell_type": "code",
   "execution_count": null,
   "id": "8216a685-0202-4757-aafa-62f488b3250b",
   "metadata": {},
   "outputs": [],
   "source": []
  },
  {
   "cell_type": "code",
   "execution_count": null,
   "id": "462f4e4f-3fff-4629-8921-46b4513614b4",
   "metadata": {},
   "outputs": [],
   "source": []
  }
 ],
 "metadata": {
  "kernelspec": {
   "display_name": "Python 3 (ipykernel)",
   "language": "python",
   "name": "python3"
  },
  "language_info": {
   "codemirror_mode": {
    "name": "ipython",
    "version": 3
   },
   "file_extension": ".py",
   "mimetype": "text/x-python",
   "name": "python",
   "nbconvert_exporter": "python",
   "pygments_lexer": "ipython3",
   "version": "3.10.12"
  }
 },
 "nbformat": 4,
 "nbformat_minor": 5
}
